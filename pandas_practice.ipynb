{
 "cells": [
  {
   "cell_type": "code",
   "execution_count": 14,
   "id": "1239e02e",
   "metadata": {},
   "outputs": [],
   "source": [
    "import pandas as pd\n"
   ]
  },
  {
   "cell_type": "code",
   "execution_count": 3,
   "id": "aed74b1b",
   "metadata": {},
   "outputs": [],
   "source": [
    "high_schools = [\"Hernandez High School\", \"Figueroa High School\",\n",
    "                \"Wilson High School\",\"Wright High School\"]"
   ]
  },
  {
   "cell_type": "code",
   "execution_count": 4,
   "id": "b03086f5",
   "metadata": {},
   "outputs": [
    {
     "data": {
      "text/plain": [
       "['Hernandez High School',\n",
       " 'Figueroa High School',\n",
       " 'Wilson High School',\n",
       " 'Wright High School']"
      ]
     },
     "execution_count": 4,
     "metadata": {},
     "output_type": "execute_result"
    }
   ],
   "source": [
    "high_schools"
   ]
  },
  {
   "cell_type": "code",
   "execution_count": 6,
   "id": "e0afa695",
   "metadata": {},
   "outputs": [
    {
     "name": "stdout",
     "output_type": "stream",
     "text": [
      "Hernandez High School\n",
      "Figueroa High School\n",
      "Wilson High School\n",
      "Wright High School\n"
     ]
    }
   ],
   "source": [
    "for school in high_schools:\n",
    "    print(school)"
   ]
  },
  {
   "cell_type": "code",
   "execution_count": 7,
   "id": "09cd09b8",
   "metadata": {},
   "outputs": [],
   "source": [
    "high_school_types = [{\"High School\": \"Griffin\", \"Type\":\"District\"},\n",
    "                    {\"High School\": \"Figueroa\", \"Type\": \"District\"},\n",
    "                    {\"High School\": \"Wilson\", \"Type\": \"Charter\"},\n",
    "                    {\"High School\": \"Wright\", \"Type\": \"Charter\"}]\n"
   ]
  },
  {
   "cell_type": "code",
   "execution_count": 13,
   "id": "819eb625",
   "metadata": {},
   "outputs": [
    {
     "name": "stdout",
     "output_type": "stream",
     "text": [
      "High School: Griffin, Type: District\n",
      "High School: Figueroa, Type: District\n",
      "High School: Wilson, Type: Charter\n",
      "High School: Wright, Type: Charter\n"
     ]
    }
   ],
   "source": [
    "for school in high_school_types:\n",
    "    print (f'High School: {school[\"High School\"]}, Type: {school[\"Type\"]}')"
   ]
  },
  {
   "cell_type": "code",
   "execution_count": 15,
   "id": "b29005e1",
   "metadata": {},
   "outputs": [],
   "source": [
    "high_schools = [\"Huang High School\",  \"Figueroa High School\", \"Shelton High School\", \"Hernandez High School\",\"Griffin High School\",\"Wilson High School\", \"Cabrera High School\", \"Bailey High School\", \"Holden High School\", \"Pena High School\", \"Wright High School\",\"Rodriguez High School\", \"Johnson High School\", \"Ford High School\", \"Thomas High School\"]"
   ]
  },
  {
   "cell_type": "code",
   "execution_count": 16,
   "id": "46551312",
   "metadata": {},
   "outputs": [],
   "source": [
    "import pandas as pd"
   ]
  },
  {
   "cell_type": "code",
   "execution_count": 18,
   "id": "5fc0a92f",
   "metadata": {},
   "outputs": [],
   "source": [
    "school_series=pd.Series(high_schools)"
   ]
  },
  {
   "cell_type": "code",
   "execution_count": 19,
   "id": "6a1a714b",
   "metadata": {},
   "outputs": [
    {
     "data": {
      "text/plain": [
       "0         Huang High School\n",
       "1      Figueroa High School\n",
       "2       Shelton High School\n",
       "3     Hernandez High School\n",
       "4       Griffin High School\n",
       "5        Wilson High School\n",
       "6       Cabrera High School\n",
       "7        Bailey High School\n",
       "8        Holden High School\n",
       "9          Pena High School\n",
       "10       Wright High School\n",
       "11    Rodriguez High School\n",
       "12      Johnson High School\n",
       "13         Ford High School\n",
       "14       Thomas High School\n",
       "dtype: object"
      ]
     },
     "execution_count": 19,
     "metadata": {},
     "output_type": "execute_result"
    }
   ],
   "source": [
    "School_series=pd.Series(high_schools)\n",
    "school_series"
   ]
  },
  {
   "cell_type": "code",
   "execution_count": 21,
   "id": "b0f71af1",
   "metadata": {},
   "outputs": [],
   "source": [
    "high_school_dicts = [{\"School ID\": 0, \"school_name\": \"Huang High    School\", \"type\": \"District\"},\n",
    "                   {\"School ID\": 1, \"school_name\": \"Figueroa High School\", \"type\": \"District\"},\n",
    "                    {\"School ID\": 2, \"school_name\":\"Shelton High School\", \"type\": \"Charter\"},\n",
    "                    {\"School ID\": 3, \"school_name\":\"Hernandez High School\", \"type\": \"District\"},\n",
    "                    {\"School ID\": 4, \"school_name\":\"Griffin High School\", \"type\": \"Charter\"}]"
   ]
  },
  {
   "cell_type": "code",
   "execution_count": 22,
   "id": "b7c46668",
   "metadata": {},
   "outputs": [],
   "source": [
    "school_df = pd.DataFrame(high_school_dicts)"
   ]
  },
  {
   "cell_type": "code",
   "execution_count": 23,
   "id": "ced1fb76",
   "metadata": {},
   "outputs": [],
   "source": [
    "school_id = [0, 1, 2, 3, 4]\n",
    "\n",
    "school_name = [\"Huang High School\", \"Figueroa High School\",\n",
    "\"Shelton High School\", \"Hernandez High School\",\"Griffin High School\"]\n",
    "\n",
    "type_of_school = [\"District\", \"District\", \"Charter\", \"District\",\"Charter\"]"
   ]
  },
  {
   "cell_type": "code",
   "execution_count": 28,
   "id": "11bb2b1d",
   "metadata": {},
   "outputs": [],
   "source": [
    "schools_df = pd.DataFrame(school_name)"
   ]
  },
  {
   "cell_type": "code",
   "execution_count": 29,
   "id": "68beae42",
   "metadata": {},
   "outputs": [],
   "source": [
    "schools_df[\"School_ID\"]=school_id"
   ]
  },
  {
   "cell_type": "code",
   "execution_count": 30,
   "id": "d5913151",
   "metadata": {},
   "outputs": [
    {
     "name": "stdout",
     "output_type": "stream",
     "text": [
      "                       0  School_ID\n",
      "0      Huang High School          0\n",
      "1   Figueroa High School          1\n",
      "2    Shelton High School          2\n",
      "3  Hernandez High School          3\n",
      "4    Griffin High School          4\n"
     ]
    }
   ],
   "source": [
    "print(schools_df)"
   ]
  },
  {
   "cell_type": "code",
   "execution_count": 34,
   "id": "97cde775",
   "metadata": {},
   "outputs": [],
   "source": [
    "schools_df[\"School Name\"]=school_name"
   ]
  },
  {
   "cell_type": "code",
   "execution_count": 35,
   "id": "41723064",
   "metadata": {},
   "outputs": [],
   "source": [
    "schools_df[\"Type\"]=type"
   ]
  },
  {
   "cell_type": "code",
   "execution_count": 36,
   "id": "8dc6ef52",
   "metadata": {},
   "outputs": [
    {
     "name": "stdout",
     "output_type": "stream",
     "text": [
      "                       0  School_ID            school_name  \\\n",
      "0      Huang High School          0      Huang High School   \n",
      "1   Figueroa High School          1   Figueroa High School   \n",
      "2    Shelton High School          2    Shelton High School   \n",
      "3  Hernandez High School          3  Hernandez High School   \n",
      "4    Griffin High School          4    Griffin High School   \n",
      "\n",
      "             School Name            Type  \n",
      "0      Huang High School  <class 'type'>  \n",
      "1   Figueroa High School  <class 'type'>  \n",
      "2    Shelton High School  <class 'type'>  \n",
      "3  Hernandez High School  <class 'type'>  \n",
      "4    Griffin High School  <class 'type'>  \n"
     ]
    }
   ],
   "source": [
    "print (schools_df)"
   ]
  },
  {
   "cell_type": "code",
   "execution_count": 37,
   "id": "fb6f8603",
   "metadata": {},
   "outputs": [],
   "source": [
    "high_schools_dict2={'School ID': school_id,'school_name':school_name, 'type':type_of_school}"
   ]
  },
  {
   "cell_type": "code",
   "execution_count": 38,
   "id": "4519e5d2",
   "metadata": {},
   "outputs": [
    {
     "name": "stdout",
     "output_type": "stream",
     "text": [
      "{'School ID': [0, 1, 2, 3, 4], 'school_name': ['Huang High School', 'Figueroa High School', 'Shelton High School', 'Hernandez High School', 'Griffin High School'], 'type': ['District', 'District', 'Charter', 'District', 'Charter']}\n"
     ]
    }
   ],
   "source": [
    "print (high_schools_dict2)"
   ]
  },
  {
   "cell_type": "code",
   "execution_count": 39,
   "id": "dba054d0",
   "metadata": {},
   "outputs": [],
   "source": [
    "schools_df2= pd.DataFrame(high_schools_dict2)"
   ]
  },
  {
   "cell_type": "code",
   "execution_count": 40,
   "id": "315c12c2",
   "metadata": {},
   "outputs": [
    {
     "name": "stdout",
     "output_type": "stream",
     "text": [
      "   School ID            school_name      type\n",
      "0          0      Huang High School  District\n",
      "1          1   Figueroa High School  District\n",
      "2          2    Shelton High School   Charter\n",
      "3          3  Hernandez High School  District\n",
      "4          4    Griffin High School   Charter\n"
     ]
    }
   ],
   "source": [
    "print(schools_df2)"
   ]
  },
  {
   "cell_type": "code",
   "execution_count": 42,
   "id": "6d0be981",
   "metadata": {},
   "outputs": [
    {
     "data": {
      "text/plain": [
       "Index([0, 'School_ID', 'school_name', 'School Name', 'Type'], dtype='object')"
      ]
     },
     "execution_count": 42,
     "metadata": {},
     "output_type": "execute_result"
    }
   ],
   "source": [
    "schools_df.columns"
   ]
  },
  {
   "cell_type": "code",
   "execution_count": 43,
   "id": "633556d6",
   "metadata": {},
   "outputs": [
    {
     "data": {
      "text/plain": [
       "Index(['School ID', 'school_name', 'type'], dtype='object')"
      ]
     },
     "execution_count": 43,
     "metadata": {},
     "output_type": "execute_result"
    }
   ],
   "source": [
    "schools_df2.columns"
   ]
  },
  {
   "cell_type": "code",
   "execution_count": 44,
   "id": "367268ed",
   "metadata": {},
   "outputs": [
    {
     "data": {
      "text/plain": [
       "RangeIndex(start=0, stop=5, step=1)"
      ]
     },
     "execution_count": 44,
     "metadata": {},
     "output_type": "execute_result"
    }
   ],
   "source": [
    "schools_df.index"
   ]
  },
  {
   "cell_type": "code",
   "execution_count": 46,
   "id": "9eea5a48",
   "metadata": {},
   "outputs": [
    {
     "data": {
      "text/plain": [
       "RangeIndex(start=0, stop=5, step=1)"
      ]
     },
     "execution_count": 46,
     "metadata": {},
     "output_type": "execute_result"
    }
   ],
   "source": [
    "schools_df2.index"
   ]
  },
  {
   "cell_type": "code",
   "execution_count": 47,
   "id": "8a9a1ada",
   "metadata": {},
   "outputs": [
    {
     "data": {
      "text/plain": [
       "array([[0, 'Huang High    School', 'District'],\n",
       "       [1, 'Figueroa High School', 'District'],\n",
       "       [2, 'Shelton High School', 'Charter'],\n",
       "       [3, 'Hernandez High School', 'District'],\n",
       "       [4, 'Griffin High School', 'Charter']], dtype=object)"
      ]
     },
     "execution_count": 47,
     "metadata": {},
     "output_type": "execute_result"
    }
   ],
   "source": [
    "school_df.values"
   ]
  },
  {
   "cell_type": "code",
   "execution_count": 48,
   "id": "bb689c74",
   "metadata": {},
   "outputs": [
    {
     "data": {
      "text/plain": [
       "array([[0, 'Huang High School', 'District'],\n",
       "       [1, 'Figueroa High School', 'District'],\n",
       "       [2, 'Shelton High School', 'Charter'],\n",
       "       [3, 'Hernandez High School', 'District'],\n",
       "       [4, 'Griffin High School', 'Charter']], dtype=object)"
      ]
     },
     "execution_count": 48,
     "metadata": {},
     "output_type": "execute_result"
    }
   ],
   "source": [
    "schools_df2.values"
   ]
  },
  {
   "cell_type": "code",
   "execution_count": null,
   "id": "c57c8a91",
   "metadata": {},
   "outputs": [],
   "source": []
  },
  {
   "cell_type": "code",
   "execution_count": null,
   "id": "b7d20a3f",
   "metadata": {},
   "outputs": [],
   "source": []
  },
  {
   "cell_type": "code",
   "execution_count": null,
   "id": "8ab3450c",
   "metadata": {},
   "outputs": [],
   "source": []
  },
  {
   "cell_type": "code",
   "execution_count": null,
   "id": "7b848615",
   "metadata": {},
   "outputs": [],
   "source": []
  },
  {
   "cell_type": "code",
   "execution_count": null,
   "id": "d557de07",
   "metadata": {},
   "outputs": [],
   "source": []
  },
  {
   "cell_type": "code",
   "execution_count": null,
   "id": "01f4f634",
   "metadata": {},
   "outputs": [],
   "source": []
  },
  {
   "cell_type": "code",
   "execution_count": null,
   "id": "4edafc06",
   "metadata": {},
   "outputs": [],
   "source": []
  },
  {
   "cell_type": "code",
   "execution_count": null,
   "id": "aae8e37c",
   "metadata": {},
   "outputs": [],
   "source": []
  },
  {
   "cell_type": "code",
   "execution_count": null,
   "id": "ba988341",
   "metadata": {},
   "outputs": [],
   "source": []
  },
  {
   "cell_type": "code",
   "execution_count": null,
   "id": "e8029c16",
   "metadata": {},
   "outputs": [],
   "source": []
  }
 ],
 "metadata": {
  "kernelspec": {
   "display_name": "PythonData",
   "language": "python",
   "name": "pythondata"
  },
  "language_info": {
   "codemirror_mode": {
    "name": "ipython",
    "version": 3
   },
   "file_extension": ".py",
   "mimetype": "text/x-python",
   "name": "python",
   "nbconvert_exporter": "python",
   "pygments_lexer": "ipython3",
   "version": "3.7.11"
  }
 },
 "nbformat": 4,
 "nbformat_minor": 5
}
